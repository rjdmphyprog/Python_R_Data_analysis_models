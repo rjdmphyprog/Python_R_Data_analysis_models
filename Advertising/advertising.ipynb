{
 "cells": [
  {
   "cell_type": "markdown",
   "metadata": {},
   "source": [
    "# Advertising analytics"
   ]
  },
  {
   "cell_type": "markdown",
   "metadata": {},
   "source": [
    "This data shows impressions (Each ad served to the user) and conversions (every moment when the user click on ad).\n",
    "1. Data needs fixing (outliers, missing values, etc)\n",
    "2. Calculate the last three columns\n",
    "3. Optimize the business idea (maximize conversion minimizing the cost)"
   ]
  },
  {
   "cell_type": "markdown",
   "metadata": {},
   "source": [
    "## Importing data"
   ]
  },
  {
   "cell_type": "code",
   "execution_count": 415,
   "metadata": {},
   "outputs": [],
   "source": [
    "import numpy as np\n",
    "import pandas as pd\n",
    "import seaborn as sns"
   ]
  },
  {
   "cell_type": "code",
   "execution_count": 416,
   "metadata": {},
   "outputs": [
    {
     "data": {
      "text/html": [
       "<div>\n",
       "<style scoped>\n",
       "    .dataframe tbody tr th:only-of-type {\n",
       "        vertical-align: middle;\n",
       "    }\n",
       "\n",
       "    .dataframe tbody tr th {\n",
       "        vertical-align: top;\n",
       "    }\n",
       "\n",
       "    .dataframe thead th {\n",
       "        text-align: right;\n",
       "    }\n",
       "</style>\n",
       "<table border=\"1\" class=\"dataframe\">\n",
       "  <thead>\n",
       "    <tr style=\"text-align: right;\">\n",
       "      <th></th>\n",
       "      <th>date</th>\n",
       "      <th>impressions</th>\n",
       "      <th>conversions</th>\n",
       "      <th>spend</th>\n",
       "      <th>clicks</th>\n",
       "      <th>conversion_rate</th>\n",
       "      <th>click_through_rate</th>\n",
       "      <th>cost_per_conversion</th>\n",
       "    </tr>\n",
       "  </thead>\n",
       "  <tbody>\n",
       "    <tr>\n",
       "      <th>0</th>\n",
       "      <td>2020-09-01</td>\n",
       "      <td>98000</td>\n",
       "      <td>NaN</td>\n",
       "      <td>220.500</td>\n",
       "      <td>1006</td>\n",
       "      <td>NaN</td>\n",
       "      <td>NaN</td>\n",
       "      <td>NaN</td>\n",
       "    </tr>\n",
       "    <tr>\n",
       "      <th>1</th>\n",
       "      <td>2020-09-02</td>\n",
       "      <td>315000</td>\n",
       "      <td>NaN</td>\n",
       "      <td>708.750</td>\n",
       "      <td>1215</td>\n",
       "      <td>NaN</td>\n",
       "      <td>NaN</td>\n",
       "      <td>NaN</td>\n",
       "    </tr>\n",
       "    <tr>\n",
       "      <th>2</th>\n",
       "      <td>2020-09-03</td>\n",
       "      <td>627000</td>\n",
       "      <td>NaN</td>\n",
       "      <td>1410.750</td>\n",
       "      <td>630</td>\n",
       "      <td>NaN</td>\n",
       "      <td>NaN</td>\n",
       "      <td>NaN</td>\n",
       "    </tr>\n",
       "    <tr>\n",
       "      <th>3</th>\n",
       "      <td>2020-09-04</td>\n",
       "      <td>449500</td>\n",
       "      <td>NaN</td>\n",
       "      <td>1011.375</td>\n",
       "      <td>899</td>\n",
       "      <td>NaN</td>\n",
       "      <td>NaN</td>\n",
       "      <td>NaN</td>\n",
       "    </tr>\n",
       "    <tr>\n",
       "      <th>4</th>\n",
       "      <td>2020-09-05</td>\n",
       "      <td>496500</td>\n",
       "      <td>NaN</td>\n",
       "      <td>1117.125</td>\n",
       "      <td>993</td>\n",
       "      <td>NaN</td>\n",
       "      <td>NaN</td>\n",
       "      <td>NaN</td>\n",
       "    </tr>\n",
       "    <tr>\n",
       "      <th>...</th>\n",
       "      <td>...</td>\n",
       "      <td>...</td>\n",
       "      <td>...</td>\n",
       "      <td>...</td>\n",
       "      <td>...</td>\n",
       "      <td>...</td>\n",
       "      <td>...</td>\n",
       "      <td>...</td>\n",
       "    </tr>\n",
       "    <tr>\n",
       "      <th>56</th>\n",
       "      <td>2020-10-27</td>\n",
       "      <td>559500</td>\n",
       "      <td>14650.0</td>\n",
       "      <td>1258.875</td>\n",
       "      <td>1119</td>\n",
       "      <td>NaN</td>\n",
       "      <td>NaN</td>\n",
       "      <td>NaN</td>\n",
       "    </tr>\n",
       "    <tr>\n",
       "      <th>57</th>\n",
       "      <td>2020-10-28</td>\n",
       "      <td>566000</td>\n",
       "      <td>12310.0</td>\n",
       "      <td>1273.500</td>\n",
       "      <td>1132</td>\n",
       "      <td>NaN</td>\n",
       "      <td>NaN</td>\n",
       "      <td>NaN</td>\n",
       "    </tr>\n",
       "    <tr>\n",
       "      <th>58</th>\n",
       "      <td>2020-10-29</td>\n",
       "      <td>0</td>\n",
       "      <td>10620.0</td>\n",
       "      <td>0.000</td>\n",
       "      <td>0</td>\n",
       "      <td>NaN</td>\n",
       "      <td>NaN</td>\n",
       "      <td>NaN</td>\n",
       "    </tr>\n",
       "    <tr>\n",
       "      <th>59</th>\n",
       "      <td>2020-10-30</td>\n",
       "      <td>0</td>\n",
       "      <td>9460.0</td>\n",
       "      <td>0.000</td>\n",
       "      <td>0</td>\n",
       "      <td>NaN</td>\n",
       "      <td>NaN</td>\n",
       "      <td>NaN</td>\n",
       "    </tr>\n",
       "    <tr>\n",
       "      <th>60</th>\n",
       "      <td>2020-10-31</td>\n",
       "      <td>456000</td>\n",
       "      <td>6030.0</td>\n",
       "      <td>1026.000</td>\n",
       "      <td>912</td>\n",
       "      <td>NaN</td>\n",
       "      <td>NaN</td>\n",
       "      <td>NaN</td>\n",
       "    </tr>\n",
       "  </tbody>\n",
       "</table>\n",
       "<p>61 rows × 8 columns</p>\n",
       "</div>"
      ],
      "text/plain": [
       "         date  impressions  conversions     spend  clicks  conversion_rate  \\\n",
       "0  2020-09-01        98000          NaN   220.500    1006              NaN   \n",
       "1  2020-09-02       315000          NaN   708.750    1215              NaN   \n",
       "2  2020-09-03       627000          NaN  1410.750     630              NaN   \n",
       "3  2020-09-04       449500          NaN  1011.375     899              NaN   \n",
       "4  2020-09-05       496500          NaN  1117.125     993              NaN   \n",
       "..        ...          ...          ...       ...     ...              ...   \n",
       "56 2020-10-27       559500      14650.0  1258.875    1119              NaN   \n",
       "57 2020-10-28       566000      12310.0  1273.500    1132              NaN   \n",
       "58 2020-10-29            0      10620.0     0.000       0              NaN   \n",
       "59 2020-10-30            0       9460.0     0.000       0              NaN   \n",
       "60 2020-10-31       456000       6030.0  1026.000     912              NaN   \n",
       "\n",
       "    click_through_rate  cost_per_conversion  \n",
       "0                  NaN                  NaN  \n",
       "1                  NaN                  NaN  \n",
       "2                  NaN                  NaN  \n",
       "3                  NaN                  NaN  \n",
       "4                  NaN                  NaN  \n",
       "..                 ...                  ...  \n",
       "56                 NaN                  NaN  \n",
       "57                 NaN                  NaN  \n",
       "58                 NaN                  NaN  \n",
       "59                 NaN                  NaN  \n",
       "60                 NaN                  NaN  \n",
       "\n",
       "[61 rows x 8 columns]"
      ]
     },
     "execution_count": 416,
     "metadata": {},
     "output_type": "execute_result"
    }
   ],
   "source": [
    "df = pd.read_excel(\"advertising.xlsx\", header = 0)\n",
    "df"
   ]
  },
  {
   "cell_type": "code",
   "execution_count": 417,
   "metadata": {},
   "outputs": [
    {
     "name": "stdout",
     "output_type": "stream",
     "text": [
      "<class 'pandas.core.frame.DataFrame'>\n",
      "RangeIndex: 61 entries, 0 to 60\n",
      "Data columns (total 8 columns):\n",
      " #   Column               Non-Null Count  Dtype         \n",
      "---  ------               --------------  -----         \n",
      " 0   date                 61 non-null     datetime64[ns]\n",
      " 1   impressions          61 non-null     int64         \n",
      " 2   conversions          51 non-null     float64       \n",
      " 3   spend                61 non-null     float64       \n",
      " 4   clicks               61 non-null     int64         \n",
      " 5   conversion_rate      0 non-null      float64       \n",
      " 6   click_through_rate   0 non-null      float64       \n",
      " 7   cost_per_conversion  0 non-null      float64       \n",
      "dtypes: datetime64[ns](1), float64(5), int64(2)\n",
      "memory usage: 3.9 KB\n"
     ]
    }
   ],
   "source": [
    "df.info()"
   ]
  },
  {
   "cell_type": "code",
   "execution_count": 418,
   "metadata": {},
   "outputs": [
    {
     "data": {
      "text/html": [
       "<div>\n",
       "<style scoped>\n",
       "    .dataframe tbody tr th:only-of-type {\n",
       "        vertical-align: middle;\n",
       "    }\n",
       "\n",
       "    .dataframe tbody tr th {\n",
       "        vertical-align: top;\n",
       "    }\n",
       "\n",
       "    .dataframe thead th {\n",
       "        text-align: right;\n",
       "    }\n",
       "</style>\n",
       "<table border=\"1\" class=\"dataframe\">\n",
       "  <thead>\n",
       "    <tr style=\"text-align: right;\">\n",
       "      <th></th>\n",
       "      <th>impressions</th>\n",
       "      <th>conversions</th>\n",
       "      <th>spend</th>\n",
       "      <th>clicks</th>\n",
       "      <th>conversion_rate</th>\n",
       "      <th>click_through_rate</th>\n",
       "      <th>cost_per_conversion</th>\n",
       "    </tr>\n",
       "  </thead>\n",
       "  <tbody>\n",
       "    <tr>\n",
       "      <th>count</th>\n",
       "      <td>6.100000e+01</td>\n",
       "      <td>51.000000</td>\n",
       "      <td>61.000000</td>\n",
       "      <td>61.000000</td>\n",
       "      <td>0.0</td>\n",
       "      <td>0.0</td>\n",
       "      <td>0.0</td>\n",
       "    </tr>\n",
       "    <tr>\n",
       "      <th>mean</th>\n",
       "      <td>4.556681e+05</td>\n",
       "      <td>9890.549020</td>\n",
       "      <td>1025.253184</td>\n",
       "      <td>923.885246</td>\n",
       "      <td>NaN</td>\n",
       "      <td>NaN</td>\n",
       "      <td>NaN</td>\n",
       "    </tr>\n",
       "    <tr>\n",
       "      <th>std</th>\n",
       "      <td>3.757882e+05</td>\n",
       "      <td>3741.708216</td>\n",
       "      <td>845.523449</td>\n",
       "      <td>745.497286</td>\n",
       "      <td>NaN</td>\n",
       "      <td>NaN</td>\n",
       "      <td>NaN</td>\n",
       "    </tr>\n",
       "    <tr>\n",
       "      <th>min</th>\n",
       "      <td>0.000000e+00</td>\n",
       "      <td>7.000000</td>\n",
       "      <td>0.000000</td>\n",
       "      <td>0.000000</td>\n",
       "      <td>NaN</td>\n",
       "      <td>NaN</td>\n",
       "      <td>NaN</td>\n",
       "    </tr>\n",
       "    <tr>\n",
       "      <th>25%</th>\n",
       "      <td>2.890000e+05</td>\n",
       "      <td>6900.000000</td>\n",
       "      <td>650.250000</td>\n",
       "      <td>597.000000</td>\n",
       "      <td>NaN</td>\n",
       "      <td>NaN</td>\n",
       "      <td>NaN</td>\n",
       "    </tr>\n",
       "    <tr>\n",
       "      <th>50%</th>\n",
       "      <td>4.560000e+05</td>\n",
       "      <td>10770.000000</td>\n",
       "      <td>1026.000000</td>\n",
       "      <td>914.000000</td>\n",
       "      <td>NaN</td>\n",
       "      <td>NaN</td>\n",
       "      <td>NaN</td>\n",
       "    </tr>\n",
       "    <tr>\n",
       "      <th>75%</th>\n",
       "      <td>5.660000e+05</td>\n",
       "      <td>12490.000000</td>\n",
       "      <td>1273.500000</td>\n",
       "      <td>1132.000000</td>\n",
       "      <td>NaN</td>\n",
       "      <td>NaN</td>\n",
       "      <td>NaN</td>\n",
       "    </tr>\n",
       "    <tr>\n",
       "      <th>max</th>\n",
       "      <td>2.482673e+06</td>\n",
       "      <td>14930.000000</td>\n",
       "      <td>5586.014250</td>\n",
       "      <td>4965.000000</td>\n",
       "      <td>NaN</td>\n",
       "      <td>NaN</td>\n",
       "      <td>NaN</td>\n",
       "    </tr>\n",
       "  </tbody>\n",
       "</table>\n",
       "</div>"
      ],
      "text/plain": [
       "        impressions   conversions        spend       clicks  conversion_rate  \\\n",
       "count  6.100000e+01     51.000000    61.000000    61.000000              0.0   \n",
       "mean   4.556681e+05   9890.549020  1025.253184   923.885246              NaN   \n",
       "std    3.757882e+05   3741.708216   845.523449   745.497286              NaN   \n",
       "min    0.000000e+00      7.000000     0.000000     0.000000              NaN   \n",
       "25%    2.890000e+05   6900.000000   650.250000   597.000000              NaN   \n",
       "50%    4.560000e+05  10770.000000  1026.000000   914.000000              NaN   \n",
       "75%    5.660000e+05  12490.000000  1273.500000  1132.000000              NaN   \n",
       "max    2.482673e+06  14930.000000  5586.014250  4965.000000              NaN   \n",
       "\n",
       "       click_through_rate  cost_per_conversion  \n",
       "count                 0.0                  0.0  \n",
       "mean                  NaN                  NaN  \n",
       "std                   NaN                  NaN  \n",
       "min                   NaN                  NaN  \n",
       "25%                   NaN                  NaN  \n",
       "50%                   NaN                  NaN  \n",
       "75%                   NaN                  NaN  \n",
       "max                   NaN                  NaN  "
      ]
     },
     "execution_count": 418,
     "metadata": {},
     "output_type": "execute_result"
    }
   ],
   "source": [
    "df.describe()"
   ]
  },
  {
   "cell_type": "code",
   "execution_count": 419,
   "metadata": {},
   "outputs": [
    {
     "data": {
      "text/plain": [
       "61"
      ]
     },
     "execution_count": 419,
     "metadata": {},
     "output_type": "execute_result"
    }
   ],
   "source": [
    "len(df) #Length dataframe"
   ]
  },
  {
   "cell_type": "markdown",
   "metadata": {},
   "source": [
    "I can verify there are missing values in conversion column, also, I can assume there are outlier in impressions and conversions column, beacause there are data far from Q1 and Q3. So, I will treat the outliers just in case."
   ]
  },
  {
   "cell_type": "markdown",
   "metadata": {},
   "source": [
    "## Outliers treatment"
   ]
  },
  {
   "cell_type": "code",
   "execution_count": 420,
   "metadata": {},
   "outputs": [
    {
     "data": {
      "text/plain": [
       "<seaborn.axisgrid.JointGrid at 0x1be5f1ada00>"
      ]
     },
     "execution_count": 420,
     "metadata": {},
     "output_type": "execute_result"
    },
    {
     "data": {
      "image/png": "[encoded data removed]",
      "text/plain": [
       "<Figure size 432x432 with 3 Axes>"
      ]
     },
     "metadata": {
      "needs_background": "light"
     },
     "output_type": "display_data"
    }
   ],
   "source": [
    "sns.jointplot(x = \"impressions\", y = \"conversions\", data = df)"
   ]
  },
  {
   "cell_type": "markdown",
   "metadata": {},
   "source": [
    "From the graph, I can see the outliers"
   ]
  },
  {
   "cell_type": "code",
   "execution_count": 421,
   "metadata": {},
   "outputs": [
    {
     "name": "stderr",
     "output_type": "stream",
     "text": [
      "<ipython-input-421-209a14b11a4e>:5: SettingWithCopyWarning: \n",
      "A value is trying to be set on a copy of a slice from a DataFrame\n",
      "\n",
      "See the caveats in the documentation: https://pandas.pydata.org/pandas-docs/stable/user_guide/indexing.html#returning-a-view-versus-a-copy\n",
      "  df[column][df[column] > 3* max_lim] = 3 * max_lim\n",
      "<ipython-input-421-209a14b11a4e>:5: SettingWithCopyWarning: \n",
      "A value is trying to be set on a copy of a slice from a DataFrame\n",
      "\n",
      "See the caveats in the documentation: https://pandas.pydata.org/pandas-docs/stable/user_guide/indexing.html#returning-a-view-versus-a-copy\n",
      "  df[column][df[column] > 3* max_lim] = 3 * max_lim\n",
      "<ipython-input-421-209a14b11a4e>:5: SettingWithCopyWarning: \n",
      "A value is trying to be set on a copy of a slice from a DataFrame\n",
      "\n",
      "See the caveats in the documentation: https://pandas.pydata.org/pandas-docs/stable/user_guide/indexing.html#returning-a-view-versus-a-copy\n",
      "  df[column][df[column] > 3* max_lim] = 3 * max_lim\n",
      "<ipython-input-421-209a14b11a4e>:5: SettingWithCopyWarning: \n",
      "A value is trying to be set on a copy of a slice from a DataFrame\n",
      "\n",
      "See the caveats in the documentation: https://pandas.pydata.org/pandas-docs/stable/user_guide/indexing.html#returning-a-view-versus-a-copy\n",
      "  df[column][df[column] > 3* max_lim] = 3 * max_lim\n"
     ]
    }
   ],
   "source": [
    "#Outliers treatment at the high values\n",
    "for column in df.iloc[:,1:5]: \n",
    "    max_lim = np.nanpercentile(df[column], 84) #this is the relative distance from max value\n",
    "                                                #since the minimum value is at 16% quartile\n",
    "    df[column][df[column] > 3* max_lim] = 3 * max_lim"
   ]
  },
  {
   "cell_type": "code",
   "execution_count": 422,
   "metadata": {},
   "outputs": [
    {
     "name": "stderr",
     "output_type": "stream",
     "text": [
      "<ipython-input-422-d3cb0ba59e16>:5: SettingWithCopyWarning: \n",
      "A value is trying to be set on a copy of a slice from a DataFrame\n",
      "\n",
      "See the caveats in the documentation: https://pandas.pydata.org/pandas-docs/stable/user_guide/indexing.html#returning-a-view-versus-a-copy\n",
      "  df[column][df[column] < 0.3* min_lim] = 0.3 * min_lim\n",
      "<ipython-input-422-d3cb0ba59e16>:5: SettingWithCopyWarning: \n",
      "A value is trying to be set on a copy of a slice from a DataFrame\n",
      "\n",
      "See the caveats in the documentation: https://pandas.pydata.org/pandas-docs/stable/user_guide/indexing.html#returning-a-view-versus-a-copy\n",
      "  df[column][df[column] < 0.3* min_lim] = 0.3 * min_lim\n",
      "<ipython-input-422-d3cb0ba59e16>:5: SettingWithCopyWarning: \n",
      "A value is trying to be set on a copy of a slice from a DataFrame\n",
      "\n",
      "See the caveats in the documentation: https://pandas.pydata.org/pandas-docs/stable/user_guide/indexing.html#returning-a-view-versus-a-copy\n",
      "  df[column][df[column] < 0.3* min_lim] = 0.3 * min_lim\n"
     ]
    }
   ],
   "source": [
    "#Outliers treatment at the low values\n",
    "for column in df.iloc[:,1:5]: \n",
    "    min_lim = np.nanpercentile(df[column], 16) #This is the minimum percentage with result\n",
    "                                                 #different to zero\n",
    "    df[column][df[column] < 0.3* min_lim] = 0.3 * min_lim"
   ]
  },
  {
   "cell_type": "code",
   "execution_count": 423,
   "metadata": {},
   "outputs": [
    {
     "data": {
      "text/html": [
       "<div>\n",
       "<style scoped>\n",
       "    .dataframe tbody tr th:only-of-type {\n",
       "        vertical-align: middle;\n",
       "    }\n",
       "\n",
       "    .dataframe tbody tr th {\n",
       "        vertical-align: top;\n",
       "    }\n",
       "\n",
       "    .dataframe thead th {\n",
       "        text-align: right;\n",
       "    }\n",
       "</style>\n",
       "<table border=\"1\" class=\"dataframe\">\n",
       "  <thead>\n",
       "    <tr style=\"text-align: right;\">\n",
       "      <th></th>\n",
       "      <th>impressions</th>\n",
       "      <th>conversions</th>\n",
       "      <th>spend</th>\n",
       "      <th>clicks</th>\n",
       "      <th>conversion_rate</th>\n",
       "      <th>click_through_rate</th>\n",
       "      <th>cost_per_conversion</th>\n",
       "    </tr>\n",
       "  </thead>\n",
       "  <tbody>\n",
       "    <tr>\n",
       "      <th>count</th>\n",
       "      <td>6.100000e+01</td>\n",
       "      <td>51.000000</td>\n",
       "      <td>61.000000</td>\n",
       "      <td>61.000000</td>\n",
       "      <td>0.0</td>\n",
       "      <td>0.0</td>\n",
       "      <td>0.0</td>\n",
       "    </tr>\n",
       "    <tr>\n",
       "      <th>mean</th>\n",
       "      <td>4.501226e+05</td>\n",
       "      <td>10001.705882</td>\n",
       "      <td>1012.775902</td>\n",
       "      <td>922.655738</td>\n",
       "      <td>NaN</td>\n",
       "      <td>NaN</td>\n",
       "      <td>NaN</td>\n",
       "    </tr>\n",
       "    <tr>\n",
       "      <th>std</th>\n",
       "      <td>3.289347e+05</td>\n",
       "      <td>3458.520362</td>\n",
       "      <td>740.103021</td>\n",
       "      <td>637.917776</td>\n",
       "      <td>NaN</td>\n",
       "      <td>NaN</td>\n",
       "      <td>NaN</td>\n",
       "    </tr>\n",
       "    <tr>\n",
       "      <th>min</th>\n",
       "      <td>1.764000e+04</td>\n",
       "      <td>1899.000000</td>\n",
       "      <td>39.690000</td>\n",
       "      <td>95.400000</td>\n",
       "      <td>NaN</td>\n",
       "      <td>NaN</td>\n",
       "      <td>NaN</td>\n",
       "    </tr>\n",
       "    <tr>\n",
       "      <th>25%</th>\n",
       "      <td>2.890000e+05</td>\n",
       "      <td>6900.000000</td>\n",
       "      <td>650.250000</td>\n",
       "      <td>597.000000</td>\n",
       "      <td>NaN</td>\n",
       "      <td>NaN</td>\n",
       "      <td>NaN</td>\n",
       "    </tr>\n",
       "    <tr>\n",
       "      <th>50%</th>\n",
       "      <td>4.560000e+05</td>\n",
       "      <td>10770.000000</td>\n",
       "      <td>1026.000000</td>\n",
       "      <td>914.000000</td>\n",
       "      <td>NaN</td>\n",
       "      <td>NaN</td>\n",
       "      <td>NaN</td>\n",
       "    </tr>\n",
       "    <tr>\n",
       "      <th>75%</th>\n",
       "      <td>5.660000e+05</td>\n",
       "      <td>12490.000000</td>\n",
       "      <td>1273.500000</td>\n",
       "      <td>1132.000000</td>\n",
       "      <td>NaN</td>\n",
       "      <td>NaN</td>\n",
       "      <td>NaN</td>\n",
       "    </tr>\n",
       "    <tr>\n",
       "      <th>max</th>\n",
       "      <td>1.968000e+06</td>\n",
       "      <td>14930.000000</td>\n",
       "      <td>4428.000000</td>\n",
       "      <td>3936.000000</td>\n",
       "      <td>NaN</td>\n",
       "      <td>NaN</td>\n",
       "      <td>NaN</td>\n",
       "    </tr>\n",
       "  </tbody>\n",
       "</table>\n",
       "</div>"
      ],
      "text/plain": [
       "        impressions   conversions        spend       clicks  conversion_rate  \\\n",
       "count  6.100000e+01     51.000000    61.000000    61.000000              0.0   \n",
       "mean   4.501226e+05  10001.705882  1012.775902   922.655738              NaN   \n",
       "std    3.289347e+05   3458.520362   740.103021   637.917776              NaN   \n",
       "min    1.764000e+04   1899.000000    39.690000    95.400000              NaN   \n",
       "25%    2.890000e+05   6900.000000   650.250000   597.000000              NaN   \n",
       "50%    4.560000e+05  10770.000000  1026.000000   914.000000              NaN   \n",
       "75%    5.660000e+05  12490.000000  1273.500000  1132.000000              NaN   \n",
       "max    1.968000e+06  14930.000000  4428.000000  3936.000000              NaN   \n",
       "\n",
       "       click_through_rate  cost_per_conversion  \n",
       "count                 0.0                  0.0  \n",
       "mean                  NaN                  NaN  \n",
       "std                   NaN                  NaN  \n",
       "min                   NaN                  NaN  \n",
       "25%                   NaN                  NaN  \n",
       "50%                   NaN                  NaN  \n",
       "75%                   NaN                  NaN  \n",
       "max                   NaN                  NaN  "
      ]
     },
     "execution_count": 423,
     "metadata": {},
     "output_type": "execute_result"
    }
   ],
   "source": [
    "df.describe()"
   ]
  },
  {
   "cell_type": "markdown",
   "metadata": {},
   "source": [
    "## Missing values treatment"
   ]
  },
  {
   "cell_type": "code",
   "execution_count": 424,
   "metadata": {},
   "outputs": [],
   "source": [
    "for column in df.iloc[:,1:5]: \n",
    "    df[column] = df[column].fillna(df[column].mean())"
   ]
  },
  {
   "cell_type": "code",
   "execution_count": 425,
   "metadata": {},
   "outputs": [
    {
     "data": {
      "text/html": [
       "<div>\n",
       "<style scoped>\n",
       "    .dataframe tbody tr th:only-of-type {\n",
       "        vertical-align: middle;\n",
       "    }\n",
       "\n",
       "    .dataframe tbody tr th {\n",
       "        vertical-align: top;\n",
       "    }\n",
       "\n",
       "    .dataframe thead th {\n",
       "        text-align: right;\n",
       "    }\n",
       "</style>\n",
       "<table border=\"1\" class=\"dataframe\">\n",
       "  <thead>\n",
       "    <tr style=\"text-align: right;\">\n",
       "      <th></th>\n",
       "      <th>date</th>\n",
       "      <th>impressions</th>\n",
       "      <th>conversions</th>\n",
       "      <th>spend</th>\n",
       "      <th>clicks</th>\n",
       "      <th>conversion_rate</th>\n",
       "      <th>click_through_rate</th>\n",
       "      <th>cost_per_conversion</th>\n",
       "    </tr>\n",
       "  </thead>\n",
       "  <tbody>\n",
       "    <tr>\n",
       "      <th>0</th>\n",
       "      <td>2020-09-01</td>\n",
       "      <td>98000.0</td>\n",
       "      <td>10001.705882</td>\n",
       "      <td>220.500</td>\n",
       "      <td>1006.0</td>\n",
       "      <td>NaN</td>\n",
       "      <td>NaN</td>\n",
       "      <td>NaN</td>\n",
       "    </tr>\n",
       "    <tr>\n",
       "      <th>1</th>\n",
       "      <td>2020-09-02</td>\n",
       "      <td>315000.0</td>\n",
       "      <td>10001.705882</td>\n",
       "      <td>708.750</td>\n",
       "      <td>1215.0</td>\n",
       "      <td>NaN</td>\n",
       "      <td>NaN</td>\n",
       "      <td>NaN</td>\n",
       "    </tr>\n",
       "    <tr>\n",
       "      <th>2</th>\n",
       "      <td>2020-09-03</td>\n",
       "      <td>627000.0</td>\n",
       "      <td>10001.705882</td>\n",
       "      <td>1410.750</td>\n",
       "      <td>630.0</td>\n",
       "      <td>NaN</td>\n",
       "      <td>NaN</td>\n",
       "      <td>NaN</td>\n",
       "    </tr>\n",
       "    <tr>\n",
       "      <th>3</th>\n",
       "      <td>2020-09-04</td>\n",
       "      <td>449500.0</td>\n",
       "      <td>10001.705882</td>\n",
       "      <td>1011.375</td>\n",
       "      <td>899.0</td>\n",
       "      <td>NaN</td>\n",
       "      <td>NaN</td>\n",
       "      <td>NaN</td>\n",
       "    </tr>\n",
       "    <tr>\n",
       "      <th>4</th>\n",
       "      <td>2020-09-05</td>\n",
       "      <td>496500.0</td>\n",
       "      <td>10001.705882</td>\n",
       "      <td>1117.125</td>\n",
       "      <td>993.0</td>\n",
       "      <td>NaN</td>\n",
       "      <td>NaN</td>\n",
       "      <td>NaN</td>\n",
       "    </tr>\n",
       "  </tbody>\n",
       "</table>\n",
       "</div>"
      ],
      "text/plain": [
       "        date  impressions   conversions     spend  clicks  conversion_rate  \\\n",
       "0 2020-09-01      98000.0  10001.705882   220.500  1006.0              NaN   \n",
       "1 2020-09-02     315000.0  10001.705882   708.750  1215.0              NaN   \n",
       "2 2020-09-03     627000.0  10001.705882  1410.750   630.0              NaN   \n",
       "3 2020-09-04     449500.0  10001.705882  1011.375   899.0              NaN   \n",
       "4 2020-09-05     496500.0  10001.705882  1117.125   993.0              NaN   \n",
       "\n",
       "   click_through_rate  cost_per_conversion  \n",
       "0                 NaN                  NaN  \n",
       "1                 NaN                  NaN  \n",
       "2                 NaN                  NaN  \n",
       "3                 NaN                  NaN  \n",
       "4                 NaN                  NaN  "
      ]
     },
     "execution_count": 425,
     "metadata": {},
     "output_type": "execute_result"
    }
   ],
   "source": [
    "df.head()"
   ]
  },
  {
   "cell_type": "code",
   "execution_count": 426,
   "metadata": {},
   "outputs": [
    {
     "data": {
      "text/html": [
       "<div>\n",
       "<style scoped>\n",
       "    .dataframe tbody tr th:only-of-type {\n",
       "        vertical-align: middle;\n",
       "    }\n",
       "\n",
       "    .dataframe tbody tr th {\n",
       "        vertical-align: top;\n",
       "    }\n",
       "\n",
       "    .dataframe thead th {\n",
       "        text-align: right;\n",
       "    }\n",
       "</style>\n",
       "<table border=\"1\" class=\"dataframe\">\n",
       "  <thead>\n",
       "    <tr style=\"text-align: right;\">\n",
       "      <th></th>\n",
       "      <th>impressions</th>\n",
       "      <th>conversions</th>\n",
       "      <th>spend</th>\n",
       "      <th>clicks</th>\n",
       "      <th>conversion_rate</th>\n",
       "      <th>click_through_rate</th>\n",
       "      <th>cost_per_conversion</th>\n",
       "    </tr>\n",
       "  </thead>\n",
       "  <tbody>\n",
       "    <tr>\n",
       "      <th>count</th>\n",
       "      <td>6.100000e+01</td>\n",
       "      <td>61.000000</td>\n",
       "      <td>61.000000</td>\n",
       "      <td>61.000000</td>\n",
       "      <td>0.0</td>\n",
       "      <td>0.0</td>\n",
       "      <td>0.0</td>\n",
       "    </tr>\n",
       "    <tr>\n",
       "      <th>mean</th>\n",
       "      <td>4.501226e+05</td>\n",
       "      <td>10001.705882</td>\n",
       "      <td>1012.775902</td>\n",
       "      <td>922.655738</td>\n",
       "      <td>NaN</td>\n",
       "      <td>NaN</td>\n",
       "      <td>NaN</td>\n",
       "    </tr>\n",
       "    <tr>\n",
       "      <th>std</th>\n",
       "      <td>3.289347e+05</td>\n",
       "      <td>3157.182696</td>\n",
       "      <td>740.103021</td>\n",
       "      <td>637.917776</td>\n",
       "      <td>NaN</td>\n",
       "      <td>NaN</td>\n",
       "      <td>NaN</td>\n",
       "    </tr>\n",
       "    <tr>\n",
       "      <th>min</th>\n",
       "      <td>1.764000e+04</td>\n",
       "      <td>1899.000000</td>\n",
       "      <td>39.690000</td>\n",
       "      <td>95.400000</td>\n",
       "      <td>NaN</td>\n",
       "      <td>NaN</td>\n",
       "      <td>NaN</td>\n",
       "    </tr>\n",
       "    <tr>\n",
       "      <th>25%</th>\n",
       "      <td>2.890000e+05</td>\n",
       "      <td>7090.000000</td>\n",
       "      <td>650.250000</td>\n",
       "      <td>597.000000</td>\n",
       "      <td>NaN</td>\n",
       "      <td>NaN</td>\n",
       "      <td>NaN</td>\n",
       "    </tr>\n",
       "    <tr>\n",
       "      <th>50%</th>\n",
       "      <td>4.560000e+05</td>\n",
       "      <td>10001.705882</td>\n",
       "      <td>1026.000000</td>\n",
       "      <td>914.000000</td>\n",
       "      <td>NaN</td>\n",
       "      <td>NaN</td>\n",
       "      <td>NaN</td>\n",
       "    </tr>\n",
       "    <tr>\n",
       "      <th>75%</th>\n",
       "      <td>5.660000e+05</td>\n",
       "      <td>12380.000000</td>\n",
       "      <td>1273.500000</td>\n",
       "      <td>1132.000000</td>\n",
       "      <td>NaN</td>\n",
       "      <td>NaN</td>\n",
       "      <td>NaN</td>\n",
       "    </tr>\n",
       "    <tr>\n",
       "      <th>max</th>\n",
       "      <td>1.968000e+06</td>\n",
       "      <td>14930.000000</td>\n",
       "      <td>4428.000000</td>\n",
       "      <td>3936.000000</td>\n",
       "      <td>NaN</td>\n",
       "      <td>NaN</td>\n",
       "      <td>NaN</td>\n",
       "    </tr>\n",
       "  </tbody>\n",
       "</table>\n",
       "</div>"
      ],
      "text/plain": [
       "        impressions   conversions        spend       clicks  conversion_rate  \\\n",
       "count  6.100000e+01     61.000000    61.000000    61.000000              0.0   \n",
       "mean   4.501226e+05  10001.705882  1012.775902   922.655738              NaN   \n",
       "std    3.289347e+05   3157.182696   740.103021   637.917776              NaN   \n",
       "min    1.764000e+04   1899.000000    39.690000    95.400000              NaN   \n",
       "25%    2.890000e+05   7090.000000   650.250000   597.000000              NaN   \n",
       "50%    4.560000e+05  10001.705882  1026.000000   914.000000              NaN   \n",
       "75%    5.660000e+05  12380.000000  1273.500000  1132.000000              NaN   \n",
       "max    1.968000e+06  14930.000000  4428.000000  3936.000000              NaN   \n",
       "\n",
       "       click_through_rate  cost_per_conversion  \n",
       "count                 0.0                  0.0  \n",
       "mean                  NaN                  NaN  \n",
       "std                   NaN                  NaN  \n",
       "min                   NaN                  NaN  \n",
       "25%                   NaN                  NaN  \n",
       "50%                   NaN                  NaN  \n",
       "75%                   NaN                  NaN  \n",
       "max                   NaN                  NaN  "
      ]
     },
     "execution_count": 426,
     "metadata": {},
     "output_type": "execute_result"
    }
   ],
   "source": [
    "df.describe()"
   ]
  },
  {
   "cell_type": "markdown",
   "metadata": {},
   "source": [
    "## Columns calculations"
   ]
  },
  {
   "cell_type": "code",
   "execution_count": 427,
   "metadata": {},
   "outputs": [],
   "source": [
    "df[\"spend\"] = 2.25 * df[\"impressions\"] / 1000 #This formula is given by excel file\n",
    "df[\"conversion_rate\"] = np.round(100 * df[\"conversions\"] / df[\"impressions\"], decimals = 4)\n",
    "df[\"click_through_rate\"] = np.round(100 * df[\"clicks\"] / df[\"impressions\"], decimals = 4)\n",
    "df[\"cost_per_conversion\"] = np.round(df[\"spend\"] / df[\"conversions\"], decimals = 4)\n"
   ]
  },
  {
   "cell_type": "code",
   "execution_count": 428,
   "metadata": {},
   "outputs": [
    {
     "data": {
      "text/html": [
       "<div>\n",
       "<style scoped>\n",
       "    .dataframe tbody tr th:only-of-type {\n",
       "        vertical-align: middle;\n",
       "    }\n",
       "\n",
       "    .dataframe tbody tr th {\n",
       "        vertical-align: top;\n",
       "    }\n",
       "\n",
       "    .dataframe thead th {\n",
       "        text-align: right;\n",
       "    }\n",
       "</style>\n",
       "<table border=\"1\" class=\"dataframe\">\n",
       "  <thead>\n",
       "    <tr style=\"text-align: right;\">\n",
       "      <th></th>\n",
       "      <th>impressions</th>\n",
       "      <th>conversions</th>\n",
       "      <th>spend</th>\n",
       "      <th>clicks</th>\n",
       "      <th>conversion_rate</th>\n",
       "      <th>click_through_rate</th>\n",
       "      <th>cost_per_conversion</th>\n",
       "    </tr>\n",
       "  </thead>\n",
       "  <tbody>\n",
       "    <tr>\n",
       "      <th>count</th>\n",
       "      <td>6.100000e+01</td>\n",
       "      <td>61.000000</td>\n",
       "      <td>61.000000</td>\n",
       "      <td>61.000000</td>\n",
       "      <td>61.000000</td>\n",
       "      <td>61.000000</td>\n",
       "      <td>61.000000</td>\n",
       "    </tr>\n",
       "    <tr>\n",
       "      <th>mean</th>\n",
       "      <td>4.501226e+05</td>\n",
       "      <td>10001.705882</td>\n",
       "      <td>1012.775902</td>\n",
       "      <td>922.655738</td>\n",
       "      <td>10.044766</td>\n",
       "      <td>0.270818</td>\n",
       "      <td>0.119770</td>\n",
       "    </tr>\n",
       "    <tr>\n",
       "      <th>std</th>\n",
       "      <td>3.289347e+05</td>\n",
       "      <td>3157.182696</td>\n",
       "      <td>740.103021</td>\n",
       "      <td>637.917776</td>\n",
       "      <td>18.875106</td>\n",
       "      <td>0.162430</td>\n",
       "      <td>0.127489</td>\n",
       "    </tr>\n",
       "    <tr>\n",
       "      <th>min</th>\n",
       "      <td>1.764000e+04</td>\n",
       "      <td>1899.000000</td>\n",
       "      <td>39.690000</td>\n",
       "      <td>95.400000</td>\n",
       "      <td>0.273000</td>\n",
       "      <td>0.100500</td>\n",
       "      <td>0.003300</td>\n",
       "    </tr>\n",
       "    <tr>\n",
       "      <th>25%</th>\n",
       "      <td>2.890000e+05</td>\n",
       "      <td>7090.000000</td>\n",
       "      <td>650.250000</td>\n",
       "      <td>597.000000</td>\n",
       "      <td>1.676200</td>\n",
       "      <td>0.200000</td>\n",
       "      <td>0.056400</td>\n",
       "    </tr>\n",
       "    <tr>\n",
       "      <th>50%</th>\n",
       "      <td>4.560000e+05</td>\n",
       "      <td>10001.705882</td>\n",
       "      <td>1026.000000</td>\n",
       "      <td>914.000000</td>\n",
       "      <td>2.225100</td>\n",
       "      <td>0.200000</td>\n",
       "      <td>0.101100</td>\n",
       "    </tr>\n",
       "    <tr>\n",
       "      <th>75%</th>\n",
       "      <td>5.660000e+05</td>\n",
       "      <td>12380.000000</td>\n",
       "      <td>1273.500000</td>\n",
       "      <td>1132.000000</td>\n",
       "      <td>3.986600</td>\n",
       "      <td>0.200000</td>\n",
       "      <td>0.134200</td>\n",
       "    </tr>\n",
       "    <tr>\n",
       "      <th>max</th>\n",
       "      <td>1.968000e+06</td>\n",
       "      <td>14930.000000</td>\n",
       "      <td>4428.000000</td>\n",
       "      <td>3936.000000</td>\n",
       "      <td>68.594100</td>\n",
       "      <td>1.026500</td>\n",
       "      <td>0.824100</td>\n",
       "    </tr>\n",
       "  </tbody>\n",
       "</table>\n",
       "</div>"
      ],
      "text/plain": [
       "        impressions   conversions        spend       clicks  conversion_rate  \\\n",
       "count  6.100000e+01     61.000000    61.000000    61.000000        61.000000   \n",
       "mean   4.501226e+05  10001.705882  1012.775902   922.655738        10.044766   \n",
       "std    3.289347e+05   3157.182696   740.103021   637.917776        18.875106   \n",
       "min    1.764000e+04   1899.000000    39.690000    95.400000         0.273000   \n",
       "25%    2.890000e+05   7090.000000   650.250000   597.000000         1.676200   \n",
       "50%    4.560000e+05  10001.705882  1026.000000   914.000000         2.225100   \n",
       "75%    5.660000e+05  12380.000000  1273.500000  1132.000000         3.986600   \n",
       "max    1.968000e+06  14930.000000  4428.000000  3936.000000        68.594100   \n",
       "\n",
       "       click_through_rate  cost_per_conversion  \n",
       "count           61.000000            61.000000  \n",
       "mean             0.270818             0.119770  \n",
       "std              0.162430             0.127489  \n",
       "min              0.100500             0.003300  \n",
       "25%              0.200000             0.056400  \n",
       "50%              0.200000             0.101100  \n",
       "75%              0.200000             0.134200  \n",
       "max              1.026500             0.824100  "
      ]
     },
     "execution_count": 428,
     "metadata": {},
     "output_type": "execute_result"
    }
   ],
   "source": [
    "df.describe()"
   ]
  },
  {
   "cell_type": "markdown",
   "metadata": {},
   "source": [
    "There are no more outliers and missing values, so I will continue wit the business idea"
   ]
  },
  {
   "cell_type": "markdown",
   "metadata": {},
   "source": [
    "## Optimization"
   ]
  },
  {
   "cell_type": "code",
   "execution_count": 429,
   "metadata": {},
   "outputs": [
    {
     "data": {
      "text/plain": [
       "<seaborn.axisgrid.JointGrid at 0x1be5f2e78b0>"
      ]
     },
     "execution_count": 429,
     "metadata": {},
     "output_type": "execute_result"
    },
    {
     "data": {
      "image/png": "[encoded data removed]",
      "text/plain": [
       "<Figure size 432x432 with 3 Axes>"
      ]
     },
     "metadata": {
      "needs_background": "light"
     },
     "output_type": "display_data"
    }
   ],
   "source": [
    "sns.jointplot(x = \"spend\", y = \"conversions\", data = df)"
   ]
  },
  {
   "cell_type": "code",
   "execution_count": 430,
   "metadata": {},
   "outputs": [
    {
     "data": {
      "text/plain": [
       "<seaborn.axisgrid.JointGrid at 0x1be5f40bac0>"
      ]
     },
     "execution_count": 430,
     "metadata": {},
     "output_type": "execute_result"
    },
    {
     "data": {
      "image/png": "[encoded data removed]",
      "text/plain": [
       "<Figure size 432x432 with 3 Axes>"
      ]
     },
     "metadata": {
      "needs_background": "light"
     },
     "output_type": "display_data"
    }
   ],
   "source": [
    "sns.jointplot(x = \"spend\", y = \"cost_per_conversion\", data = df)"
   ]
  },
  {
   "cell_type": "code",
   "execution_count": 431,
   "metadata": {},
   "outputs": [
    {
     "data": {
      "text/html": [
       "<div>\n",
       "<style scoped>\n",
       "    .dataframe tbody tr th:only-of-type {\n",
       "        vertical-align: middle;\n",
       "    }\n",
       "\n",
       "    .dataframe tbody tr th {\n",
       "        vertical-align: top;\n",
       "    }\n",
       "\n",
       "    .dataframe thead th {\n",
       "        text-align: right;\n",
       "    }\n",
       "</style>\n",
       "<table border=\"1\" class=\"dataframe\">\n",
       "  <thead>\n",
       "    <tr style=\"text-align: right;\">\n",
       "      <th></th>\n",
       "      <th>impressions</th>\n",
       "      <th>conversions</th>\n",
       "      <th>spend</th>\n",
       "      <th>clicks</th>\n",
       "      <th>conversion_rate</th>\n",
       "      <th>click_through_rate</th>\n",
       "      <th>cost_per_conversion</th>\n",
       "    </tr>\n",
       "  </thead>\n",
       "  <tbody>\n",
       "    <tr>\n",
       "      <th>impressions</th>\n",
       "      <td>1.000000</td>\n",
       "      <td>0.112873</td>\n",
       "      <td>1.000000</td>\n",
       "      <td>0.972809</td>\n",
       "      <td>-0.576595</td>\n",
       "      <td>-0.563905</td>\n",
       "      <td>0.594560</td>\n",
       "    </tr>\n",
       "    <tr>\n",
       "      <th>conversions</th>\n",
       "      <td>0.112873</td>\n",
       "      <td>1.000000</td>\n",
       "      <td>0.112873</td>\n",
       "      <td>0.109772</td>\n",
       "      <td>0.005540</td>\n",
       "      <td>-0.148569</td>\n",
       "      <td>-0.467619</td>\n",
       "    </tr>\n",
       "    <tr>\n",
       "      <th>spend</th>\n",
       "      <td>1.000000</td>\n",
       "      <td>0.112873</td>\n",
       "      <td>1.000000</td>\n",
       "      <td>0.972809</td>\n",
       "      <td>-0.576595</td>\n",
       "      <td>-0.563905</td>\n",
       "      <td>0.594560</td>\n",
       "    </tr>\n",
       "    <tr>\n",
       "      <th>clicks</th>\n",
       "      <td>0.972809</td>\n",
       "      <td>0.109772</td>\n",
       "      <td>0.972809</td>\n",
       "      <td>1.000000</td>\n",
       "      <td>-0.560156</td>\n",
       "      <td>-0.429014</td>\n",
       "      <td>0.574269</td>\n",
       "    </tr>\n",
       "    <tr>\n",
       "      <th>conversion_rate</th>\n",
       "      <td>-0.576595</td>\n",
       "      <td>0.005540</td>\n",
       "      <td>-0.576595</td>\n",
       "      <td>-0.560156</td>\n",
       "      <td>1.000000</td>\n",
       "      <td>0.721812</td>\n",
       "      <td>-0.413203</td>\n",
       "    </tr>\n",
       "    <tr>\n",
       "      <th>click_through_rate</th>\n",
       "      <td>-0.563905</td>\n",
       "      <td>-0.148569</td>\n",
       "      <td>-0.563905</td>\n",
       "      <td>-0.429014</td>\n",
       "      <td>0.721812</td>\n",
       "      <td>1.000000</td>\n",
       "      <td>-0.385648</td>\n",
       "    </tr>\n",
       "    <tr>\n",
       "      <th>cost_per_conversion</th>\n",
       "      <td>0.594560</td>\n",
       "      <td>-0.467619</td>\n",
       "      <td>0.594560</td>\n",
       "      <td>0.574269</td>\n",
       "      <td>-0.413203</td>\n",
       "      <td>-0.385648</td>\n",
       "      <td>1.000000</td>\n",
       "    </tr>\n",
       "  </tbody>\n",
       "</table>\n",
       "</div>"
      ],
      "text/plain": [
       "                     impressions  conversions     spend    clicks  \\\n",
       "impressions             1.000000     0.112873  1.000000  0.972809   \n",
       "conversions             0.112873     1.000000  0.112873  0.109772   \n",
       "spend                   1.000000     0.112873  1.000000  0.972809   \n",
       "clicks                  0.972809     0.109772  0.972809  1.000000   \n",
       "conversion_rate        -0.576595     0.005540 -0.576595 -0.560156   \n",
       "click_through_rate     -0.563905    -0.148569 -0.563905 -0.429014   \n",
       "cost_per_conversion     0.594560    -0.467619  0.594560  0.574269   \n",
       "\n",
       "                     conversion_rate  click_through_rate  cost_per_conversion  \n",
       "impressions                -0.576595           -0.563905             0.594560  \n",
       "conversions                 0.005540           -0.148569            -0.467619  \n",
       "spend                      -0.576595           -0.563905             0.594560  \n",
       "clicks                     -0.560156           -0.429014             0.574269  \n",
       "conversion_rate             1.000000            0.721812            -0.413203  \n",
       "click_through_rate          0.721812            1.000000            -0.385648  \n",
       "cost_per_conversion        -0.413203           -0.385648             1.000000  "
      ]
     },
     "execution_count": 431,
     "metadata": {},
     "output_type": "execute_result"
    }
   ],
   "source": [
    "df.corr()"
   ]
  },
  {
   "cell_type": "markdown",
   "metadata": {},
   "source": [
    "For the analysis, I just need conversions, spend and cos_per_conversion columns, because that is the business idea, and the other variables are not correlated with conversions"
   ]
  },
  {
   "cell_type": "code",
   "execution_count": 432,
   "metadata": {},
   "outputs": [],
   "source": [
    "del df[\"impressions\"]\n",
    "del df[\"clicks\"]\n",
    "del df[\"conversion_rate\"]\n",
    "del df[\"click_through_rate\"]"
   ]
  },
  {
   "cell_type": "code",
   "execution_count": 433,
   "metadata": {},
   "outputs": [
    {
     "data": {
      "text/html": [
       "<div>\n",
       "<style scoped>\n",
       "    .dataframe tbody tr th:only-of-type {\n",
       "        vertical-align: middle;\n",
       "    }\n",
       "\n",
       "    .dataframe tbody tr th {\n",
       "        vertical-align: top;\n",
       "    }\n",
       "\n",
       "    .dataframe thead th {\n",
       "        text-align: right;\n",
       "    }\n",
       "</style>\n",
       "<table border=\"1\" class=\"dataframe\">\n",
       "  <thead>\n",
       "    <tr style=\"text-align: right;\">\n",
       "      <th></th>\n",
       "      <th>conversions</th>\n",
       "      <th>spend</th>\n",
       "      <th>cost_per_conversion</th>\n",
       "    </tr>\n",
       "  </thead>\n",
       "  <tbody>\n",
       "    <tr>\n",
       "      <th>conversions</th>\n",
       "      <td>1.000000</td>\n",
       "      <td>0.112873</td>\n",
       "      <td>-0.467619</td>\n",
       "    </tr>\n",
       "    <tr>\n",
       "      <th>spend</th>\n",
       "      <td>0.112873</td>\n",
       "      <td>1.000000</td>\n",
       "      <td>0.594560</td>\n",
       "    </tr>\n",
       "    <tr>\n",
       "      <th>cost_per_conversion</th>\n",
       "      <td>-0.467619</td>\n",
       "      <td>0.594560</td>\n",
       "      <td>1.000000</td>\n",
       "    </tr>\n",
       "  </tbody>\n",
       "</table>\n",
       "</div>"
      ],
      "text/plain": [
       "                     conversions     spend  cost_per_conversion\n",
       "conversions             1.000000  0.112873            -0.467619\n",
       "spend                   0.112873  1.000000             0.594560\n",
       "cost_per_conversion    -0.467619  0.594560             1.000000"
      ]
     },
     "execution_count": 433,
     "metadata": {},
     "output_type": "execute_result"
    }
   ],
   "source": [
    "df.corr()"
   ]
  },
  {
   "cell_type": "markdown",
   "metadata": {},
   "source": [
    "At this moment, I will transform variables to identify if there is a higher correlations"
   ]
  },
  {
   "cell_type": "code",
   "execution_count": 434,
   "metadata": {},
   "outputs": [],
   "source": [
    "df[\"log_conversions\"] = np.log(df[\"conversions\"])\n",
    "df[\"log_spend\"] = np.log(df[\"spend\"])\n",
    "df[\"log_cost\"] = np.log(df[\"cost_per_conversion\"])\n",
    "df[\"sqrt_conversions\"] = np.sqrt(df[\"conversions\"])\n",
    "df[\"sqrt_spend\"] = np.sqrt(df[\"spend\"])\n",
    "df[\"sqrt_cost\"] = np.sqrt(df[\"cost_per_conversion\"])"
   ]
  },
  {
   "cell_type": "code",
   "execution_count": 435,
   "metadata": {},
   "outputs": [
    {
     "data": {
      "text/html": [
       "<div>\n",
       "<style scoped>\n",
       "    .dataframe tbody tr th:only-of-type {\n",
       "        vertical-align: middle;\n",
       "    }\n",
       "\n",
       "    .dataframe tbody tr th {\n",
       "        vertical-align: top;\n",
       "    }\n",
       "\n",
       "    .dataframe thead th {\n",
       "        text-align: right;\n",
       "    }\n",
       "</style>\n",
       "<table border=\"1\" class=\"dataframe\">\n",
       "  <thead>\n",
       "    <tr style=\"text-align: right;\">\n",
       "      <th></th>\n",
       "      <th>conversions</th>\n",
       "      <th>spend</th>\n",
       "      <th>cost_per_conversion</th>\n",
       "      <th>log_conversions</th>\n",
       "      <th>log_spend</th>\n",
       "      <th>log_cost</th>\n",
       "      <th>sqrt_conversions</th>\n",
       "      <th>sqrt_spend</th>\n",
       "      <th>sqrt_cost</th>\n",
       "    </tr>\n",
       "  </thead>\n",
       "  <tbody>\n",
       "    <tr>\n",
       "      <th>conversions</th>\n",
       "      <td>1.000000</td>\n",
       "      <td>0.112873</td>\n",
       "      <td>-0.467619</td>\n",
       "      <td>0.949339</td>\n",
       "      <td>0.166232</td>\n",
       "      <td>-0.162217</td>\n",
       "      <td>0.988834</td>\n",
       "      <td>0.140324</td>\n",
       "      <td>-0.358951</td>\n",
       "    </tr>\n",
       "    <tr>\n",
       "      <th>spend</th>\n",
       "      <td>0.112873</td>\n",
       "      <td>1.000000</td>\n",
       "      <td>0.594560</td>\n",
       "      <td>0.103109</td>\n",
       "      <td>0.786993</td>\n",
       "      <td>0.745283</td>\n",
       "      <td>0.109381</td>\n",
       "      <td>0.937161</td>\n",
       "      <td>0.742943</td>\n",
       "    </tr>\n",
       "    <tr>\n",
       "      <th>cost_per_conversion</th>\n",
       "      <td>-0.467619</td>\n",
       "      <td>0.594560</td>\n",
       "      <td>1.000000</td>\n",
       "      <td>-0.554077</td>\n",
       "      <td>0.521701</td>\n",
       "      <td>0.708612</td>\n",
       "      <td>-0.514128</td>\n",
       "      <td>0.594767</td>\n",
       "      <td>0.929142</td>\n",
       "    </tr>\n",
       "    <tr>\n",
       "      <th>log_conversions</th>\n",
       "      <td>0.949339</td>\n",
       "      <td>0.103109</td>\n",
       "      <td>-0.554077</td>\n",
       "      <td>1.000000</td>\n",
       "      <td>0.150482</td>\n",
       "      <td>-0.195312</td>\n",
       "      <td>0.985431</td>\n",
       "      <td>0.127669</td>\n",
       "      <td>-0.410738</td>\n",
       "    </tr>\n",
       "    <tr>\n",
       "      <th>log_spend</th>\n",
       "      <td>0.166232</td>\n",
       "      <td>0.786993</td>\n",
       "      <td>0.521701</td>\n",
       "      <td>0.150482</td>\n",
       "      <td>1.000000</td>\n",
       "      <td>0.940181</td>\n",
       "      <td>0.159819</td>\n",
       "      <td>0.950663</td>\n",
       "      <td>0.777019</td>\n",
       "    </tr>\n",
       "    <tr>\n",
       "      <th>log_cost</th>\n",
       "      <td>-0.162217</td>\n",
       "      <td>0.745283</td>\n",
       "      <td>0.708612</td>\n",
       "      <td>-0.195312</td>\n",
       "      <td>0.940181</td>\n",
       "      <td>1.000000</td>\n",
       "      <td>-0.181021</td>\n",
       "      <td>0.899150</td>\n",
       "      <td>0.912464</td>\n",
       "    </tr>\n",
       "    <tr>\n",
       "      <th>sqrt_conversions</th>\n",
       "      <td>0.988834</td>\n",
       "      <td>0.109381</td>\n",
       "      <td>-0.514128</td>\n",
       "      <td>0.985431</td>\n",
       "      <td>0.159819</td>\n",
       "      <td>-0.181021</td>\n",
       "      <td>1.000000</td>\n",
       "      <td>0.135356</td>\n",
       "      <td>-0.388396</td>\n",
       "    </tr>\n",
       "    <tr>\n",
       "      <th>sqrt_spend</th>\n",
       "      <td>0.140324</td>\n",
       "      <td>0.937161</td>\n",
       "      <td>0.594767</td>\n",
       "      <td>0.127669</td>\n",
       "      <td>0.950663</td>\n",
       "      <td>0.899150</td>\n",
       "      <td>0.135356</td>\n",
       "      <td>1.000000</td>\n",
       "      <td>0.810878</td>\n",
       "    </tr>\n",
       "    <tr>\n",
       "      <th>sqrt_cost</th>\n",
       "      <td>-0.358951</td>\n",
       "      <td>0.742943</td>\n",
       "      <td>0.929142</td>\n",
       "      <td>-0.410738</td>\n",
       "      <td>0.777019</td>\n",
       "      <td>0.912464</td>\n",
       "      <td>-0.388396</td>\n",
       "      <td>0.810878</td>\n",
       "      <td>1.000000</td>\n",
       "    </tr>\n",
       "  </tbody>\n",
       "</table>\n",
       "</div>"
      ],
      "text/plain": [
       "                     conversions     spend  cost_per_conversion  \\\n",
       "conversions             1.000000  0.112873            -0.467619   \n",
       "spend                   0.112873  1.000000             0.594560   \n",
       "cost_per_conversion    -0.467619  0.594560             1.000000   \n",
       "log_conversions         0.949339  0.103109            -0.554077   \n",
       "log_spend               0.166232  0.786993             0.521701   \n",
       "log_cost               -0.162217  0.745283             0.708612   \n",
       "sqrt_conversions        0.988834  0.109381            -0.514128   \n",
       "sqrt_spend              0.140324  0.937161             0.594767   \n",
       "sqrt_cost              -0.358951  0.742943             0.929142   \n",
       "\n",
       "                     log_conversions  log_spend  log_cost  sqrt_conversions  \\\n",
       "conversions                 0.949339   0.166232 -0.162217          0.988834   \n",
       "spend                       0.103109   0.786993  0.745283          0.109381   \n",
       "cost_per_conversion        -0.554077   0.521701  0.708612         -0.514128   \n",
       "log_conversions             1.000000   0.150482 -0.195312          0.985431   \n",
       "log_spend                   0.150482   1.000000  0.940181          0.159819   \n",
       "log_cost                   -0.195312   0.940181  1.000000         -0.181021   \n",
       "sqrt_conversions            0.985431   0.159819 -0.181021          1.000000   \n",
       "sqrt_spend                  0.127669   0.950663  0.899150          0.135356   \n",
       "sqrt_cost                  -0.410738   0.777019  0.912464         -0.388396   \n",
       "\n",
       "                     sqrt_spend  sqrt_cost  \n",
       "conversions            0.140324  -0.358951  \n",
       "spend                  0.937161   0.742943  \n",
       "cost_per_conversion    0.594767   0.929142  \n",
       "log_conversions        0.127669  -0.410738  \n",
       "log_spend              0.950663   0.777019  \n",
       "log_cost               0.899150   0.912464  \n",
       "sqrt_conversions       0.135356  -0.388396  \n",
       "sqrt_spend             1.000000   0.810878  \n",
       "sqrt_cost              0.810878   1.000000  "
      ]
     },
     "execution_count": 435,
     "metadata": {},
     "output_type": "execute_result"
    }
   ],
   "source": [
    "df.corr()"
   ]
  },
  {
   "cell_type": "code",
   "execution_count": 436,
   "metadata": {},
   "outputs": [
    {
     "data": {
      "text/html": [
       "<div>\n",
       "<style scoped>\n",
       "    .dataframe tbody tr th:only-of-type {\n",
       "        vertical-align: middle;\n",
       "    }\n",
       "\n",
       "    .dataframe tbody tr th {\n",
       "        vertical-align: top;\n",
       "    }\n",
       "\n",
       "    .dataframe thead th {\n",
       "        text-align: right;\n",
       "    }\n",
       "</style>\n",
       "<table border=\"1\" class=\"dataframe\">\n",
       "  <thead>\n",
       "    <tr style=\"text-align: right;\">\n",
       "      <th></th>\n",
       "      <th>conversions</th>\n",
       "      <th>spend</th>\n",
       "      <th>cost_per_conversion</th>\n",
       "      <th>log_conversions</th>\n",
       "      <th>log_spend</th>\n",
       "      <th>log_cost</th>\n",
       "      <th>sqrt_conversions</th>\n",
       "      <th>sqrt_spend</th>\n",
       "      <th>sqrt_cost</th>\n",
       "    </tr>\n",
       "  </thead>\n",
       "  <tbody>\n",
       "    <tr>\n",
       "      <th>count</th>\n",
       "      <td>61.000000</td>\n",
       "      <td>61.000000</td>\n",
       "      <td>61.000000</td>\n",
       "      <td>61.000000</td>\n",
       "      <td>61.000000</td>\n",
       "      <td>61.000000</td>\n",
       "      <td>61.000000</td>\n",
       "      <td>61.000000</td>\n",
       "      <td>61.000000</td>\n",
       "    </tr>\n",
       "    <tr>\n",
       "      <th>mean</th>\n",
       "      <td>10001.705882</td>\n",
       "      <td>1012.775902</td>\n",
       "      <td>0.119770</td>\n",
       "      <td>9.134590</td>\n",
       "      <td>6.446786</td>\n",
       "      <td>-2.687597</td>\n",
       "      <td>98.389809</td>\n",
       "      <td>29.270619</td>\n",
       "      <td>0.308584</td>\n",
       "    </tr>\n",
       "    <tr>\n",
       "      <th>std</th>\n",
       "      <td>3157.182696</td>\n",
       "      <td>740.103021</td>\n",
       "      <td>0.127489</td>\n",
       "      <td>0.452157</td>\n",
       "      <td>1.301755</td>\n",
       "      <td>1.311666</td>\n",
       "      <td>18.069418</td>\n",
       "      <td>12.593923</td>\n",
       "      <td>0.157973</td>\n",
       "    </tr>\n",
       "    <tr>\n",
       "      <th>min</th>\n",
       "      <td>1899.000000</td>\n",
       "      <td>39.690000</td>\n",
       "      <td>0.003300</td>\n",
       "      <td>7.549083</td>\n",
       "      <td>3.681099</td>\n",
       "      <td>-5.713833</td>\n",
       "      <td>43.577517</td>\n",
       "      <td>6.300000</td>\n",
       "      <td>0.057446</td>\n",
       "    </tr>\n",
       "    <tr>\n",
       "      <th>25%</th>\n",
       "      <td>7090.000000</td>\n",
       "      <td>650.250000</td>\n",
       "      <td>0.056400</td>\n",
       "      <td>8.866441</td>\n",
       "      <td>6.477357</td>\n",
       "      <td>-2.875286</td>\n",
       "      <td>84.202138</td>\n",
       "      <td>25.500000</td>\n",
       "      <td>0.237487</td>\n",
       "    </tr>\n",
       "    <tr>\n",
       "      <th>50%</th>\n",
       "      <td>10001.705882</td>\n",
       "      <td>1026.000000</td>\n",
       "      <td>0.101100</td>\n",
       "      <td>9.210511</td>\n",
       "      <td>6.933423</td>\n",
       "      <td>-2.291645</td>\n",
       "      <td>100.008529</td>\n",
       "      <td>32.031235</td>\n",
       "      <td>0.317962</td>\n",
       "    </tr>\n",
       "    <tr>\n",
       "      <th>75%</th>\n",
       "      <td>12380.000000</td>\n",
       "      <td>1273.500000</td>\n",
       "      <td>0.134200</td>\n",
       "      <td>9.423838</td>\n",
       "      <td>7.149524</td>\n",
       "      <td>-2.008424</td>\n",
       "      <td>111.265448</td>\n",
       "      <td>35.686132</td>\n",
       "      <td>0.366333</td>\n",
       "    </tr>\n",
       "    <tr>\n",
       "      <th>max</th>\n",
       "      <td>14930.000000</td>\n",
       "      <td>4428.000000</td>\n",
       "      <td>0.824100</td>\n",
       "      <td>9.611128</td>\n",
       "      <td>8.395703</td>\n",
       "      <td>-0.193463</td>\n",
       "      <td>122.188379</td>\n",
       "      <td>66.543219</td>\n",
       "      <td>0.907800</td>\n",
       "    </tr>\n",
       "  </tbody>\n",
       "</table>\n",
       "</div>"
      ],
      "text/plain": [
       "        conversions        spend  cost_per_conversion  log_conversions  \\\n",
       "count     61.000000    61.000000            61.000000        61.000000   \n",
       "mean   10001.705882  1012.775902             0.119770         9.134590   \n",
       "std     3157.182696   740.103021             0.127489         0.452157   \n",
       "min     1899.000000    39.690000             0.003300         7.549083   \n",
       "25%     7090.000000   650.250000             0.056400         8.866441   \n",
       "50%    10001.705882  1026.000000             0.101100         9.210511   \n",
       "75%    12380.000000  1273.500000             0.134200         9.423838   \n",
       "max    14930.000000  4428.000000             0.824100         9.611128   \n",
       "\n",
       "       log_spend   log_cost  sqrt_conversions  sqrt_spend  sqrt_cost  \n",
       "count  61.000000  61.000000         61.000000   61.000000  61.000000  \n",
       "mean    6.446786  -2.687597         98.389809   29.270619   0.308584  \n",
       "std     1.301755   1.311666         18.069418   12.593923   0.157973  \n",
       "min     3.681099  -5.713833         43.577517    6.300000   0.057446  \n",
       "25%     6.477357  -2.875286         84.202138   25.500000   0.237487  \n",
       "50%     6.933423  -2.291645        100.008529   32.031235   0.317962  \n",
       "75%     7.149524  -2.008424        111.265448   35.686132   0.366333  \n",
       "max     8.395703  -0.193463        122.188379   66.543219   0.907800  "
      ]
     },
     "execution_count": 436,
     "metadata": {},
     "output_type": "execute_result"
    }
   ],
   "source": [
    "df.describe()"
   ]
  },
  {
   "cell_type": "markdown",
   "metadata": {},
   "source": [
    "Applying different transformations to different variables, we identify the best correlation is log_cost - log_spend"
   ]
  },
  {
   "cell_type": "code",
   "execution_count": 448,
   "metadata": {},
   "outputs": [
    {
     "data": {
      "text/plain": [
       "<seaborn.axisgrid.JointGrid at 0x1be5f6264c0>"
      ]
     },
     "execution_count": 448,
     "metadata": {},
     "output_type": "execute_result"
    },
    {
     "data": {
      "image/png": "[encoded data removed]",
      "text/plain": [
       "<Figure size 432x432 with 3 Axes>"
      ]
     },
     "metadata": {
      "needs_background": "light"
     },
     "output_type": "display_data"
    }
   ],
   "source": [
    "sns.jointplot(x = \"spend\", y = \"conversions\", data = df)"
   ]
  },
  {
   "cell_type": "code",
   "execution_count": 437,
   "metadata": {},
   "outputs": [
    {
     "data": {
      "text/plain": [
       "<seaborn.axisgrid.JointGrid at 0x1be5f49a670>"
      ]
     },
     "execution_count": 437,
     "metadata": {},
     "output_type": "execute_result"
    },
    {
     "data": {
      "image/png": "[encoded data removed]",
      "text/plain": [
       "<Figure size 432x432 with 3 Axes>"
      ]
     },
     "metadata": {
      "needs_background": "light"
     },
     "output_type": "display_data"
    }
   ],
   "source": [
    "sns.jointplot(x = \"cost_per_conversion\", y = \"conversions\", data = df)"
   ]
  },
  {
   "cell_type": "code",
   "execution_count": 449,
   "metadata": {},
   "outputs": [
    {
     "data": {
      "text/plain": [
       "<seaborn.axisgrid.JointGrid at 0x1be5f723190>"
      ]
     },
     "execution_count": 449,
     "metadata": {},
     "output_type": "execute_result"
    },
    {
     "data": {
      "image/png": "[encoded data removed]",
      "text/plain": [
       "<Figure size 432x432 with 3 Axes>"
      ]
     },
     "metadata": {
      "needs_background": "light"
     },
     "output_type": "display_data"
    }
   ],
   "source": [
    "sns.jointplot(x = \"log_spend\", y = \"log_cost\", data = df)"
   ]
  },
  {
   "cell_type": "markdown",
   "metadata": {},
   "source": [
    "## Linear regression"
   ]
  },
  {
   "cell_type": "code",
   "execution_count": 438,
   "metadata": {},
   "outputs": [],
   "source": [
    "from sklearn.linear_model import LinearRegression\n",
    "y = df[\"conversions\"]\n",
    "x = df[[\"cost_per_conversion\"]]"
   ]
  },
  {
   "cell_type": "code",
   "execution_count": 439,
   "metadata": {},
   "outputs": [],
   "source": [
    "lm = LinearRegression()"
   ]
  },
  {
   "cell_type": "code",
   "execution_count": 440,
   "metadata": {},
   "outputs": [
    {
     "data": {
      "text/plain": [
       "LinearRegression()"
      ]
     },
     "execution_count": 440,
     "metadata": {},
     "output_type": "execute_result"
    }
   ],
   "source": [
    "lm.fit(x, y)"
   ]
  },
  {
   "cell_type": "code",
   "execution_count": 441,
   "metadata": {},
   "outputs": [
    {
     "name": "stdout",
     "output_type": "stream",
     "text": [
      "11388.680860944283 [-11580.27288449]\n"
     ]
    }
   ],
   "source": [
    "print(lm.intercept_, lm.coef_)"
   ]
  },
  {
   "cell_type": "code",
   "execution_count": 442,
   "metadata": {},
   "outputs": [
    {
     "data": {
      "text/plain": [
       "0.2186676966995692"
      ]
     },
     "execution_count": 442,
     "metadata": {},
     "output_type": "execute_result"
    }
   ],
   "source": [
    "lm.score(x, y)"
   ]
  },
  {
   "cell_type": "code",
   "execution_count": 443,
   "metadata": {},
   "outputs": [
    {
     "data": {
      "text/plain": [
       "<seaborn.axisgrid.JointGrid at 0x1be5f674880>"
      ]
     },
     "execution_count": 443,
     "metadata": {},
     "output_type": "execute_result"
    },
    {
     "data": {
      "image/png": "[encoded data removed]",
      "text/plain": [
       "<Figure size 432x432 with 3 Axes>"
      ]
     },
     "metadata": {
      "needs_background": "light"
     },
     "output_type": "display_data"
    }
   ],
   "source": [
    "sns.jointplot(x = \"cost_per_conversion\", y = \"conversions\", data = df, kind = \"reg\", joint_kws = {\"line_kws\" : {\"color\": \"orange\"}})"
   ]
  },
  {
   "cell_type": "code",
   "execution_count": 444,
   "metadata": {},
   "outputs": [
    {
     "data": {
      "text/plain": [
       "(array([38], dtype=int64),)"
      ]
     },
     "execution_count": 444,
     "metadata": {},
     "output_type": "execute_result"
    }
   ],
   "source": [
    "np.where(lm.predict(x) == lm.predict(x).max())"
   ]
  },
  {
   "cell_type": "code",
   "execution_count": 445,
   "metadata": {},
   "outputs": [
    {
     "data": {
      "text/plain": [
       "37.45653766940406"
      ]
     },
     "execution_count": 445,
     "metadata": {},
     "output_type": "execute_result"
    }
   ],
   "source": [
    "x[\"cost_per_conversion\"][38] * lm.predict(x)[38]"
   ]
  },
  {
   "cell_type": "code",
   "execution_count": 446,
   "metadata": {},
   "outputs": [
    {
     "data": {
      "text/plain": [
       "11350.465960425472"
      ]
     },
     "execution_count": 446,
     "metadata": {},
     "output_type": "execute_result"
    }
   ],
   "source": [
    "lm.predict(x)[38]"
   ]
  },
  {
   "cell_type": "code",
   "execution_count": 447,
   "metadata": {},
   "outputs": [
    {
     "data": {
      "text/plain": [
       "0.0033"
      ]
     },
     "execution_count": 447,
     "metadata": {},
     "output_type": "execute_result"
    }
   ],
   "source": [
    "x[\"cost_per_conversion\"][38]"
   ]
  },
  {
   "cell_type": "markdown",
   "metadata": {},
   "source": [
    "Other relation I can check is log_cost - log_spend"
   ]
  },
  {
   "cell_type": "code",
   "execution_count": 450,
   "metadata": {},
   "outputs": [],
   "source": [
    "x = df[[\"log_spend\"]]\n",
    "y = df[\"log_cost\"]\n",
    "lm = LinearRegression()"
   ]
  },
  {
   "cell_type": "code",
   "execution_count": 451,
   "metadata": {},
   "outputs": [
    {
     "data": {
      "text/plain": [
       "LinearRegression()"
      ]
     },
     "execution_count": 451,
     "metadata": {},
     "output_type": "execute_result"
    }
   ],
   "source": [
    "lm.fit(x, y)"
   ]
  },
  {
   "cell_type": "code",
   "execution_count": 452,
   "metadata": {},
   "outputs": [
    {
     "name": "stdout",
     "output_type": "stream",
     "text": [
      "-8.794888661361497 [0.94733892]\n"
     ]
    }
   ],
   "source": [
    "print(lm.intercept_, lm.coef_)"
   ]
  },
  {
   "cell_type": "code",
   "execution_count": 453,
   "metadata": {},
   "outputs": [
    {
     "data": {
      "text/plain": [
       "0.8839409603298779"
      ]
     },
     "execution_count": 453,
     "metadata": {},
     "output_type": "execute_result"
    }
   ],
   "source": [
    "lm.score(x, y)"
   ]
  },
  {
   "cell_type": "code",
   "execution_count": 455,
   "metadata": {},
   "outputs": [
    {
     "data": {
      "text/plain": [
       "<seaborn.axisgrid.JointGrid at 0x1be60ad5610>"
      ]
     },
     "execution_count": 455,
     "metadata": {},
     "output_type": "execute_result"
    },
    {
     "data": {
      "image/png": "[encoded data removed]",
      "text/plain": [
       "<Figure size 432x432 with 3 Axes>"
      ]
     },
     "metadata": {
      "needs_background": "light"
     },
     "output_type": "display_data"
    }
   ],
   "source": [
    "sns.jointplot(x = \"log_spend\", y = \"log_cost\", data = df, kind = \"reg\")"
   ]
  },
  {
   "cell_type": "code",
   "execution_count": 458,
   "metadata": {},
   "outputs": [
    {
     "data": {
      "text/plain": [
       "(array([30, 31, 37, 38, 44, 45, 51, 52, 58, 59], dtype=int64),)"
      ]
     },
     "execution_count": 458,
     "metadata": {},
     "output_type": "execute_result"
    }
   ],
   "source": [
    "np.where(np.exp(lm.predict(x)) == np.exp(lm.predict(x).min())) "
   ]
  },
  {
   "cell_type": "code",
   "execution_count": 459,
   "metadata": {},
   "outputs": [
    {
     "data": {
      "text/plain": [
       "8012.349432449223"
      ]
     },
     "execution_count": 459,
     "metadata": {},
     "output_type": "execute_result"
    }
   ],
   "source": [
    "np.exp(x[\"log_spend\"][30]) /np.exp(lm.predict(x))[30] #Conversion opt"
   ]
  },
  {
   "cell_type": "code",
   "execution_count": 461,
   "metadata": {},
   "outputs": [
    {
     "data": {
      "text/plain": [
       "39.689999999999976"
      ]
     },
     "execution_count": 461,
     "metadata": {},
     "output_type": "execute_result"
    }
   ],
   "source": [
    "np.exp(x[\"log_spend\"][30]) #Spend opt"
   ]
  },
  {
   "cell_type": "code",
   "execution_count": 462,
   "metadata": {},
   "outputs": [
    {
     "data": {
      "text/plain": [
       "6.907755278982137"
      ]
     },
     "execution_count": 462,
     "metadata": {},
     "output_type": "execute_result"
    }
   ],
   "source": [
    "np.log(1000)"
   ]
  },
  {
   "cell_type": "markdown",
   "metadata": {},
   "source": [
    "# Conclusions\n",
    "I cleaned data and treated it, with the result conversion does not follow a linear correlation, but the graphs let be clear that the business does not need pay a lot of money to obtain conversions, this company, with 1000 dollar or less, obtains the maximun conversion."
   ]
  }
 ],
 "metadata": {
  "kernelspec": {
   "display_name": "Python 3",
   "language": "python",
   "name": "python3"
  },
  "language_info": {
   "codemirror_mode": {
    "name": "ipython",
    "version": 3
   },
   "file_extension": ".py",
   "mimetype": "text/x-python",
   "name": "python",
   "nbconvert_exporter": "python",
   "pygments_lexer": "ipython3",
   "version": "3.8.5"
  }
 },
 "nbformat": 4,
 "nbformat_minor": 4
}
